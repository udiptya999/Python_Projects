{
 "cells": [
  {
   "cell_type": "code",
   "execution_count": 1,
   "metadata": {},
   "outputs": [],
   "source": [
    "import random\n",
    "\n",
    "suits = ('Hearts', 'Diamonds', 'Spades', 'Clubs')\n",
    "ranks = ('Two', 'Three', 'Four', 'Five', 'Six', 'Seven', 'Eight', 'Nine', 'Ten', 'Jack', 'Queen', 'King', 'Ace')\n",
    "values ={'Two':2, 'Three':3, 'Four':4, 'Five':5, 'Six':6, 'Seven':7, 'Eight':8, 'Nine':9, 'Ten':10, 'Jack':10,'Queen':10, 'King':10, 'Ace':11}\n",
    "\n",
    "playing = True\n",
    "class Card:\n",
    "\n",
    "    def __init__(self,suit,rank):\n",
    "        self.suit = suit\n",
    "        self.rank = rank\n",
    "        \n",
    "    def __str__(self):\n",
    "        return self.rank + ' of ' + self.suit"
   ]
  },
  {
   "cell_type": "code",
   "execution_count": 2,
   "metadata": {},
   "outputs": [],
   "source": [
    "class Deck:\n",
    "    \n",
    "    def __init__(self):\n",
    "        self.deck = []  # start with an empty list\n",
    "        for suit in suits:\n",
    "            for rank in ranks:\n",
    "                self.deck.append(Card(suit,rank))  # build Card objects and add them to the list\n",
    "    \n",
    "    def __str__(self):\n",
    "        deck_comp = ''  # start with an empty string\n",
    "        for card in self.deck:\n",
    "            deck_comp += '\\n '+card.__str__() # add each Card object's print string\n",
    "        return 'The deck has:' + deck_comp\n",
    "\n",
    "    def shuffle(self):\n",
    "        random.shuffle(self.deck)\n",
    "        \n",
    "    def deal(self):\n",
    "        single_card = self.deck.pop()\n",
    "        return single_card"
   ]
  },
  {
   "cell_type": "code",
   "execution_count": 3,
   "metadata": {},
   "outputs": [],
   "source": [
    "class Hand:\n",
    "    \n",
    "    def __init__(self):\n",
    "        self.cards = []  # start with an empty list as we did in the Deck class\n",
    "        self.value = 0   # start with zero value\n",
    "        self.aces = 0    # add an attribute to keep track of aces\n",
    "    \n",
    "    def add_card(self,card):\n",
    "        self.cards.append(card)\n",
    "        self.value += values[card.rank]\n",
    "        if card.rank == 'Ace':\n",
    "            self.aces += 1  # add to self.aces\n",
    "    \n",
    "    def adjust_for_ace(self):\n",
    "        while self.value > 21 and self.aces:\n",
    "            self.value -= 10\n",
    "            self.aces -= 1"
   ]
  },
  {
   "cell_type": "code",
   "execution_count": 12,
   "metadata": {},
   "outputs": [],
   "source": [
    "class Chips:\n",
    "    \n",
    "    def __init__(self):\n",
    "        self.total = 100  # This can be set to a default value or supplied by a user input\n",
    "        self.bet = 0\n",
    "        \n",
    "    def win_bet(self):\n",
    "        self.total=self.total+self.bet\n",
    "    \n",
    "    def lose_bet(self):\n",
    "        self.total=self.total-self.bet"
   ]
  },
  {
   "cell_type": "code",
   "execution_count": 5,
   "metadata": {},
   "outputs": [],
   "source": [
    "def take_bet(total_chips):\n",
    "        try:\n",
    "            bet=int(input(\"Enter your bet\"))\n",
    "            if bet<=total_chips:\n",
    "                print(\"Bet Accepted\")\n",
    "            else:\n",
    "                print(\"Bet exceed total chips\")\n",
    "        except:\n",
    "            print(\"Enter a integer\")\n",
    "        return bet"
   ]
  },
  {
   "cell_type": "code",
   "execution_count": 6,
   "metadata": {},
   "outputs": [],
   "source": [
    "def hit(deck,hand):\n",
    "    \n",
    "    hand.add_card(deck.deal())\n",
    "    hand.adjust_for_ace()"
   ]
  },
  {
   "cell_type": "code",
   "execution_count": 7,
   "metadata": {},
   "outputs": [],
   "source": [
    "def hit_or_stand(deck,hand):\n",
    "    global playing  # to control an upcoming while loop\n",
    "    while True:\n",
    "        hors=input(\"Hit or stand? press 'h' or 's'\")\n",
    "        if hors=='h':\n",
    "            hit(deck,hand)\n",
    "        else:\n",
    "            playing=False\n",
    "        break"
   ]
  },
  {
   "cell_type": "code",
   "execution_count": 8,
   "metadata": {},
   "outputs": [],
   "source": [
    "def show_some(player,dealer):\n",
    "    print(\"\\nDealer's Hand: \")\n",
    "    print(\"<Card Hidden>\")\n",
    "    print(\"\",dealer.cards[1])\n",
    "    print(\"\\nPlayer's Hand: \",*player.cards,sep=\"\\n \")\n",
    "    \n",
    "    \n",
    "def show_all(player,dealer):\n",
    "    print(\"\\nDealer's Hand: \",*dealer.cards,sep=\"\\n \")\n",
    "    print(\"\\nPlayer's Hand: \",*player.cards,sep=\"\\n \")\n",
    "    \n",
    "    "
   ]
  },
  {
   "cell_type": "code",
   "execution_count": 9,
   "metadata": {},
   "outputs": [],
   "source": [
    "def player_busts(player,dealer,chips):\n",
    "    print(\"Player Busted!\")\n",
    "    chips.lose_bet\n",
    "    \n",
    "\n",
    "def player_wins(player,dealer,chips):\n",
    "    print(\"Player Wins\")\n",
    "    chips.win_bet\n",
    "\n",
    "def dealer_busts(player,dealer,chips):\n",
    "    chips.win_bet\n",
    "    \n",
    "def dealer_wins(player,dealer,chips):\n",
    "    chips.lose_bet\n",
    "    \n",
    "def push(player,dealer):\n",
    "    print(\"Tie!! It's a push\")"
   ]
  },
  {
   "cell_type": "code",
   "execution_count": 16,
   "metadata": {},
   "outputs": [
    {
     "name": "stdout",
     "output_type": "stream",
     "text": [
      "Welcome to the Game of Black Jack\n",
      "Enter your bet1000\n",
      "Enter a integer\n",
      "\n",
      "Dealer's Hand: \n",
      "<Card Hidden>\n",
      " Four of Spades\n",
      "\n",
      "Player's Hand: \n",
      " Queen of Hearts\n",
      " Six of Clubs\n",
      "\n",
      "Dealer's Hand: \n",
      " Jack of Diamonds\n",
      " Four of Spades\n",
      " Nine of Hearts\n",
      "\n",
      "Player's Hand: \n",
      " Queen of Hearts\n",
      " Six of Clubs\n",
      "Do you want to play again?: y or ny\n",
      "Welcome to the Game of Black Jack\n",
      "Enter your bet10\n",
      "Enter a integer\n",
      "\n",
      "Dealer's Hand: \n",
      "<Card Hidden>\n",
      " Four of Clubs\n",
      "\n",
      "Player's Hand: \n",
      " Five of Spades\n",
      " Five of Clubs\n",
      "Hit or stand? press 'h' or 's'h\n",
      "\n",
      "Dealer's Hand: \n",
      "<Card Hidden>\n",
      " Four of Clubs\n",
      "\n",
      "Player's Hand: \n",
      " Five of Spades\n",
      " Five of Clubs\n",
      " Five of Hearts\n",
      "Hit or stand? press 'h' or 's's\n",
      "\n",
      "Dealer's Hand: \n",
      "<Card Hidden>\n",
      " Four of Clubs\n",
      "\n",
      "Player's Hand: \n",
      " Five of Spades\n",
      " Five of Clubs\n",
      " Five of Hearts\n",
      "\n",
      "Dealer's Hand: \n",
      " Six of Spades\n",
      " Four of Clubs\n",
      " King of Hearts\n",
      "\n",
      "Player's Hand: \n",
      " Five of Spades\n",
      " Five of Clubs\n",
      " Five of Hearts\n",
      "Do you want to play again?: y or nn\n",
      "Thanks for playing\n"
     ]
    }
   ],
   "source": [
    "while True:\n",
    "    # Print an opening statement\n",
    "    print(\"Welcome to the Game of Black Jack\")\n",
    "    \n",
    "    # Create & shuffle the deck, deal two cards to each player\n",
    "    deck=Deck()\n",
    "    deck.shuffle()\n",
    "    \n",
    "    player_hand=Hand()\n",
    "    player_hand.add_card(deck.deal())\n",
    "    player_hand.add_card(deck.deal())\n",
    "    \n",
    "    dealer_hand=Hand()\n",
    "    dealer_hand.add_card(deck.deal())\n",
    "    dealer_hand.add_card(deck.deal())\n",
    "        \n",
    "    # Set up the Player's chips\n",
    "    player_chips=Chips()\n",
    "    \n",
    "    \n",
    "    # Prompt the Player for their bet\n",
    "    take_bet(player_chips)\n",
    "    \n",
    "    # Show cards (but keep one dealer card hidden)\n",
    "    show_some(player_hand,dealer_hand)\n",
    "\n",
    "    \n",
    "    while playing:  # recall this variable from our hit_or_stand function\n",
    "        \n",
    "        # Prompt for Player to Hit or Stand\n",
    "        hit_or_stand(deck,player_hand)\n",
    "        \n",
    "        # Show cards (but keep one dealer card hidden)\n",
    "        show_some(player_hand,dealer_hand)\n",
    "        \n",
    "        # If player's hand exceeds 21, run player_busts() and break out of loop\n",
    "        if player_hand.value>21:\n",
    "            player_busts(player_hand,dealer_hand,player_chips)\n",
    "\n",
    "            break\n",
    "\n",
    "    # If Player hasn't busted, play Dealer's hand until Dealer reaches 17\n",
    "    if player_hand.value<=21:\n",
    "        while(dealer_hand.value<17):\n",
    "            hit(deck,dealer_hand)\n",
    "            \n",
    "    \n",
    "        # Show all cards\n",
    "    show_all(player_hand,dealer_hand)\n",
    "        # Run different winning scenarios\n",
    "    if dealer_hand.value>21:\n",
    "        dealer_busts(player_hand,dealer_hand,player_chips)\n",
    "    elif player_hand.value>dealer_hand.value:\n",
    "        player_wins(player_hand,dealer_hand,player_chips)\n",
    "    elif player_hand.value<dealer_hand.value:\n",
    "        dealer_wins(player_hand,dealer_hand,player_chips)\n",
    "    else:\n",
    "        push(player_hand,dealer_hand)\n",
    "    # Inform Player of their chips total \n",
    "    player_chips.total\n",
    "    # Ask to play again\n",
    "    play_again=input('Do you want to play again?: y or n')\n",
    "    if play_again=='y':\n",
    "        playing=True\n",
    "        continue\n",
    "    else:\n",
    "        print(\"Thanks for playing\")\n",
    "        break"
   ]
  },
  {
   "cell_type": "code",
   "execution_count": null,
   "metadata": {},
   "outputs": [],
   "source": [
    "player_hand.cards"
   ]
  },
  {
   "cell_type": "code",
   "execution_count": 17,
   "metadata": {},
   "outputs": [
    {
     "data": {
      "text/plain": [
       "100"
      ]
     },
     "execution_count": 17,
     "metadata": {},
     "output_type": "execute_result"
    }
   ],
   "source": [
    "player_chips.total"
   ]
  },
  {
   "cell_type": "code",
   "execution_count": 18,
   "metadata": {},
   "outputs": [
    {
     "ename": "AttributeError",
     "evalue": "type object 'Chips' has no attribute 'bet'",
     "output_type": "error",
     "traceback": [
      "\u001b[1;31m---------------------------------------------------------------------------\u001b[0m",
      "\u001b[1;31mAttributeError\u001b[0m                            Traceback (most recent call last)",
      "\u001b[1;32m<ipython-input-18-ba2203271cf7>\u001b[0m in \u001b[0;36m<module>\u001b[1;34m()\u001b[0m\n\u001b[1;32m----> 1\u001b[1;33m \u001b[0mChips\u001b[0m\u001b[1;33m.\u001b[0m\u001b[0mbet\u001b[0m\u001b[1;33m\u001b[0m\u001b[0m\n\u001b[0m",
      "\u001b[1;31mAttributeError\u001b[0m: type object 'Chips' has no attribute 'bet'"
     ]
    }
   ],
   "source": [
    "Chips.bet"
   ]
  },
  {
   "cell_type": "code",
   "execution_count": null,
   "metadata": {},
   "outputs": [],
   "source": []
  },
  {
   "cell_type": "code",
   "execution_count": null,
   "metadata": {},
   "outputs": [],
   "source": []
  }
 ],
 "metadata": {
  "kernelspec": {
   "display_name": "Python 3",
   "language": "python",
   "name": "python3"
  },
  "language_info": {
   "codemirror_mode": {
    "name": "ipython",
    "version": 3
   },
   "file_extension": ".py",
   "mimetype": "text/x-python",
   "name": "python",
   "nbconvert_exporter": "python",
   "pygments_lexer": "ipython3",
   "version": "3.6.5"
  }
 },
 "nbformat": 4,
 "nbformat_minor": 2
}
